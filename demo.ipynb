{
 "cells": [
  {
   "cell_type": "markdown",
   "metadata": {},
   "source": [
    "# Demo Gift Exchange\n",
    "Randomly assign giver-receiver pairs. Don't link partners, or frenemies."
   ]
  },
  {
   "cell_type": "code",
   "execution_count": 1,
   "metadata": {},
   "outputs": [
    {
     "name": "stdout",
     "output_type": "stream",
     "text": [
      "...\n",
      "----------------------------------------------------------------------\n",
      "Ran 3 tests in 0.001s\n",
      "\n",
      "OK\n"
     ]
    }
   ],
   "source": [
    "# Run unit tests\n",
    "!python -m unittest discover"
   ]
  },
  {
   "cell_type": "code",
   "execution_count": 2,
   "metadata": {},
   "outputs": [
    {
     "name": "stdout",
     "output_type": "stream",
     "text": [
      "\n",
      " Assignments:\n",
      "        Grandpa is giving to GreatGrandma\n",
      "        Grandma is giving to Dad1\n",
      "        Brother is giving to StillAtHome\n",
      "         Inlaw1 is giving to Grandpa\n",
      "         Sister is giving to CatLady\n",
      "         Inlaw2 is giving to Dad2\n",
      "           Dad1 is giving to Brother\n",
      "           Dad2 is giving to Inlaw1\n",
      "   OtherSibling is giving to Sister\n",
      "         Trophy is giving to Grandma\n",
      "    StillAtHome is giving to CrazyUncle\n",
      "     CrazyUncle is giving to Inlaw2\n",
      "        CatLady is giving to OtherSibling\n",
      "   GreatGrandma is giving to Trophy\n"
     ]
    }
   ],
   "source": [
    "import numpy as np\n",
    "from magichat import MagicHat, draw_and_print\n",
    "\n",
    "# Put names in the hat\n",
    "hat = MagicHat()\n",
    "\n",
    "# Define groups of folks that should NOT gift eachother\n",
    "hat.add_group([\"Grandpa\", \"Grandma\"])\n",
    "hat.add_group([\"Brother\",\"Inlaw1\"])\n",
    "hat.add_group([\"Sister\",\"Inlaw2\"])\n",
    "hat.add_group([\"Dad1\",\"Dad2\"])\n",
    "hat.add_group([\"OtherSibling\",\"Trophy\",\"StillAtHome\"])\n",
    "\n",
    "# Add individual names that can gift anyone\n",
    "names = [\"CrazyUncle\", \"CatLady\", \"GreatGrandma\"]\n",
    "for n in names:\n",
    "    hat.add_name(n)\n",
    "\n",
    "# Draw names and print results\n",
    "receiver_map = draw_and_print(hat)"
   ]
  }
 ],
 "metadata": {
  "kernelspec": {
   "display_name": "giftex",
   "language": "python",
   "name": "python3"
  },
  "language_info": {
   "codemirror_mode": {
    "name": "ipython",
    "version": 3
   },
   "file_extension": ".py",
   "mimetype": "text/x-python",
   "name": "python",
   "nbconvert_exporter": "python",
   "pygments_lexer": "ipython3",
   "version": "3.12.7"
  }
 },
 "nbformat": 4,
 "nbformat_minor": 2
}
